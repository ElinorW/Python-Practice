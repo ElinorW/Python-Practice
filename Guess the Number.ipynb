{
 "cells": [
  {
   "cell_type": "markdown",
   "metadata": {},
   "source": [
    "# Guess the number program"
   ]
  },
  {
   "cell_type": "code",
   "execution_count": null,
   "metadata": {},
   "outputs": [
    {
     "name": "stdout",
     "output_type": "stream",
     "text": [
      "Please enter a high boundary 5\n",
      "Is your number  3\n",
      "lower\n",
      "Is your number  0\n",
      "higher\n",
      "Is your number  1\n",
      "higher\n",
      "Is your number  2\n",
      "higher\n"
     ]
    }
   ],
   "source": [
    "import random\n",
    "low_bound = 0\n",
    "high_bound = int(input('Please enter a high boundary '))\n",
    "guessed_numbers = set()\n",
    "\n",
    "while True:\n",
    "    guess = random.randint(low_bound,high_bound)\n",
    "    \n",
    "    while guess not in guessed_numbers:\n",
    "        print(\"Is your number \", guess)\n",
    "\n",
    "        response = input()\n",
    "\n",
    "        if response == 'lower':\n",
    "            high_bound = guess\n",
    "            guessed_numbers.add(guess)\n",
    "            continue      \n",
    "        elif response == 'higher':\n",
    "            low_bound = guess\n",
    "            guessed_numbers.add(guess)\n",
    "            continue\n",
    "        elif response == 'correct':\n",
    "            print('Got it')\n",
    "            guessed_numbers.add(guess)\n",
    "            break"
   ]
  },
  {
   "cell_type": "code",
   "execution_count": null,
   "metadata": {},
   "outputs": [],
   "source": []
  }
 ],
 "metadata": {
  "kernelspec": {
   "display_name": "Python 3",
   "language": "python",
   "name": "python3"
  },
  "language_info": {
   "codemirror_mode": {
    "name": "ipython",
    "version": 3
   },
   "file_extension": ".py",
   "mimetype": "text/x-python",
   "name": "python",
   "nbconvert_exporter": "python",
   "pygments_lexer": "ipython3",
   "version": "3.7.1"
  }
 },
 "nbformat": 4,
 "nbformat_minor": 2
}
